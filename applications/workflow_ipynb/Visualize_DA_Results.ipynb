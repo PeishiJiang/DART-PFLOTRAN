{
 "cells": [
  {
   "cell_type": "markdown",
   "metadata": {},
   "source": [
    "# Overview\n",
    "The **objective** of this notebook is to visualize the data assimilation results generated from [the DART_PFLOTRAN_Integrate notebook](./DART_PFLOTRAN_Integrate.ipynb):\n",
    "1. [x] [Configuration](#parameter): define directories, file locations, and other parameters\n",
    "- [x] [Visualize spatial average](#plot_spatial_average): plot the time evolution of spatial-averaged prior and posterior results\n",
    "- [x] [Visualize time evolution along one axis](#plot_along_zaxis):"
   ]
  },
  {
   "cell_type": "markdown",
   "metadata": {},
   "source": [
    "<a id='parameter'></a>\n",
    "# Configuration"
   ]
  },
  {
   "cell_type": "code",
   "execution_count": 1,
   "metadata": {},
   "outputs": [],
   "source": [
    "import os\n",
    "import sys\n",
    "import pickle\n",
    "import f90nml\n",
    "import numpy as np\n",
    "from math import floor\n",
    "from datetime import datetime, timedelta\n",
    "import matplotlib.pyplot as plt\n",
    "from matplotlib import gridspec\n",
    "%load_ext autoreload\n",
    "%autoreload 2"
   ]
  },
  {
   "cell_type": "markdown",
   "metadata": {},
   "source": [
    "****************\n",
    "**Define the locations of application folder, DART-PFLOTRAN interface folder, and the configuation file of interest**"
   ]
  },
  {
   "cell_type": "code",
   "execution_count": 2,
   "metadata": {},
   "outputs": [],
   "source": [
    "# Main directory names\n",
    "temp_app_dir = \"/Users/jian449/Codes/DART/manhattan/models/pflotran/applications/template\"          # The template for application folder\n",
    "app_dir      = \"/Users/jian449/Codes/DART/manhattan/models/pflotran/applications/1dthermal_test_1month_post\"          # The application folder name\n",
    "dart_dir     = \"/Users/jian449/Codes/DART/manhattan\"\n",
    "dart_pf_dir  = \"/Users/jian449/Codes/DART/manhattan/models/pflotran\"     # The dart pflotran utitlity folder name\n",
    "# temp_app_dir = os.path.abspath(\"../template\" )          # The template for application folder\n",
    "# app_dir      = os.path.abspath(\"../1dthermal/\")          # The application folder name\n",
    "# dart_dir     = os.path.abspath(\"../../../../\")\n",
    "# dart_pf_dir  = os.path.join(dart_dir, \"models/pflotran\")     # The dart pflotran utitlity folder name\n",
    "# Get the configuration file\n",
    "config_file  = os.path.join(app_dir, \"work/config.nml\")"
   ]
  },
  {
   "cell_type": "markdown",
   "metadata": {},
   "source": [
    "****************\n",
    "**Import the visualization functions**"
   ]
  },
  {
   "cell_type": "code",
   "execution_count": null,
   "metadata": {},
   "outputs": [],
   "source": [
    "sys.path.append(dart_pf_dir)\n",
    "from utils.plot_da_result import DaResults, plot_compare_multiple_daresults\n",
    "dar = DaResults(config_file)\n",
    "dar.setup(from_concatenated=0)\n",
    "nvar = dar.nvar"
   ]
  },
  {
   "cell_type": "markdown",
   "metadata": {},
   "source": [
    "<a id='plot_spatial_average'></a>\n",
    "# Visualize spatial average results"
   ]
  },
  {
   "cell_type": "code",
   "execution_count": null,
   "metadata": {},
   "outputs": [],
   "source": [
    "fig = plt.figure(num=1,dpi=150, figsize=(10,5), constrained_layout=True)\n",
    "gs = gridspec.GridSpec(nvar, 2, width_ratios=[1, 1])\n",
    "axes = np.empty([nvar, 2], dtype=object)\n",
    "for i in range(nvar):\n",
    "    axes[i, 0] = plt.subplot(gs[i, 0])\n",
    "    axes[i, 1] = plt.subplot(gs[i, 1], sharey=axes[i, 0], sharex=axes[i, 0])\n",
    "dar.plot_spatial_average(axes)"
   ]
  },
  {
   "cell_type": "markdown",
   "metadata": {},
   "source": [
    "<a id='plot_along_zaxis'></a>\n",
    "# Visualize temporal evolution along one dimension"
   ]
  },
  {
   "cell_type": "code",
   "execution_count": null,
   "metadata": {
    "scrolled": false
   },
   "outputs": [],
   "source": [
    "dar.plot_oned_obs('TEMPERATURE', figsize=(10,10), dim_str='z', vmin=4, vmax=10, ylim=[4, 10])"
   ]
  },
  {
   "cell_type": "markdown",
   "metadata": {},
   "source": [
    "# Compare the true with analyzed results (one variable, spatially averaged)"
   ]
  },
  {
   "cell_type": "code",
   "execution_count": null,
   "metadata": {
    "scrolled": false
   },
   "outputs": [],
   "source": [
    "flux_file = os.path.join(app_dir, \"pflotran_input/flux_1d.csv\")\n",
    "fig = plt.figure(num=1,dpi=150, figsize=(10,3), constrained_layout=True)\n",
    "gs = gridspec.GridSpec(1, 2, width_ratios=[1, 1])\n",
    "axes = np.empty(2, dtype=object)\n",
    "axes[0] = plt.subplot(gs[0, 0])\n",
    "axes[1] = plt.subplot(gs[0, 1], sharey=axes[0], sharex=axes[0])\n",
    "dar.compare_univar_spatial_average(var_name='FLOW_FLUX', true_file_name=flux_file, axes=axes, ylim=[-4, 4])"
   ]
  },
  {
   "cell_type": "markdown",
   "metadata": {},
   "source": [
    "# This part is specific for 1d-thermal example\n",
    "We would like to compare EnKF results with Kewei's result"
   ]
  },
  {
   "cell_type": "code",
   "execution_count": null,
   "metadata": {
    "code_folding": [
     0
    ]
   },
   "outputs": [],
   "source": [
    "# Get the Kewei's results\n",
    "import pandas as pd\n",
    "import numpy as np\n",
    "import matplotlib.pyplot as plt\n",
    "from matplotlib import gridspec\n",
    "from datetime import datetime\n",
    "\n",
    "assim_start_me, assim_start_enks = dar.assim_start_time, \"2017-04-01 02:00:00\"\n",
    "flux_posterior_file = os.path.join(app_dir, \"pflotran_input/flux_Kewei_posterior_woflowdir_mda1.txt\")\n",
    "flux_prior_file = os.path.join(app_dir, \"pflotran_input/flux_Kewei_prior_woflowdir_mda1.txt\")\n",
    "# flux_posterior_file = os.path.join(app_dir, \"pflotran_input/flux_Kewei_posterior_woflowdir.txt\")\n",
    "# flux_prior_file = os.path.join(app_dir, \"pflotran_input/flux_Kewei_prior_woflowdir.txt\")\n",
    "true_set = pd.read_csv(flux_file)\n",
    "prior, posterior = np.loadtxt(flux_prior_file), np.loadtxt(flux_posterior_file)\n",
    "_, nens = prior.shape\n",
    "assim_window = 1. / 24.  # Kewei's assimilation window (1hr)\n",
    "fraction = int(assim_window / dar.assim_window)"
   ]
  },
  {
   "cell_type": "code",
   "execution_count": null,
   "metadata": {
    "code_folding": [
     0
    ]
   },
   "outputs": [],
   "source": [
    "# Get the time index\n",
    "model_start_time, model_end_time = dar.model_start_time, dar.model_end_time\n",
    "ref_time           = datetime.strptime(assim_start_me, \"%Y-%m-%d %H:%M:%S\")\n",
    "true_set_raw_time  = true_set.iloc[:, 0].values\n",
    "true_set_dates     = np.array([datetime.strptime(t, '%m/%d/%Y %H:%M') for t in true_set_raw_time])\n",
    "dates_ref          = [t-ref_time for t in true_set_dates]\n",
    "true_set_time      = np.array([t.days+float(t.seconds)/86400. for t in dates_ref])\n",
    "true               = true_set.iloc[:, 1].values\n",
    "true_set_used_ind  = (true_set_time >= model_start_time) & (true_set_time <= model_end_time)\n",
    "true_set_time_used = true_set_time[true_set_used_ind]\n",
    "true_set_used      = true[true_set_used_ind]\n",
    "\n",
    "# ref_time_enks      = datetime.strptime(assim_start_enks, \"%Y-%m-%d %H:%M:%S\")\n",
    "# enks_set_time = true_set_time[true_set_dates > ref_time_enks]\n",
    "# enks_ind  = (enks_set_time >= model_start_time) & (enks_set_time <= model_end_time)\n",
    "model_time_list = [dar.model_time_list[i] for i in range(len(dar.model_time_list))  if i % fraction == 0]\n",
    "ntime = len(model_time_list)\n",
    "analyzed_prior_ens = prior[1:1+ntime,:].T\n",
    "analyzed_posterior_ens = posterior[1:1+ntime, :].T"
   ]
  },
  {
   "cell_type": "code",
   "execution_count": null,
   "metadata": {
    "code_folding": [
     0
    ]
   },
   "outputs": [],
   "source": [
    "# Plot\n",
    "ylim=[-4, 4]\n",
    "fig = plt.figure(num=1, dpi=150,figsize=(10, 3), constrained_layout=True)\n",
    "gs  = gridspec.GridSpec(1, 2, width_ratios=[1, 1])\n",
    "# Plot the prior\n",
    "ax1 = plt.subplot(gs[0, 0])\n",
    "for j in range(nens):\n",
    "    prior_ens = analyzed_prior_ens[j, :]\n",
    "    line1, = ax1.plot(model_time_list, prior_ens, color='grey',\n",
    "                      linewidth=0.5, linestyle=':', label='ensemble')\n",
    "prior_mean = np.mean(analyzed_prior_ens, axis=(0))\n",
    "line2, = ax1.plot(model_time_list, prior_mean, color='red',\n",
    "                  linewidth=1, label='mean')\n",
    "line3, = ax1.plot(true_set_time_used, true_set_used, color='black',\n",
    "                  linewidth=1, label='obs')\n",
    "\n",
    "# Plot the posterior\n",
    "ax2 = plt.subplot(gs[0, 1])\n",
    "for j in range(nens):\n",
    "    posterior_ens = analyzed_posterior_ens[j, :]\n",
    "    line1, = ax2.plot(model_time_list, posterior_ens, color='grey',\n",
    "                      linewidth=0.5, linestyle=':', label='ensemble')\n",
    "posterior_mean = np.mean(analyzed_posterior_ens, axis=(0))\n",
    "line2, = ax2.plot(model_time_list, posterior_mean, color='red',\n",
    "                  linewidth=1, label='mean')\n",
    "line3, = ax2.plot(true_set_time_used, true_set_used, color='black',\n",
    "                  linewidth=1, label='obs')\n",
    "\n",
    "# Plot the legends\n",
    "plt.legend((line1, line2, line3), ('ensemble', 'mean', 'obs'),\n",
    "           frameon=False, ncol=3, loc=\"center\", bbox_to_anchor=(0.0, -0.5))\n",
    "\n",
    "# Plot the labels and titles\n",
    "ax1.set_title(\"Prior ({} from Kewei) \\n assimilation window: 1hr\".format('FLOW_FLUX'))\n",
    "ax2.set_title(\"Posterior ({} from Kewei) \\n assimilation window: 1hr\".format('FLOW_FLUX'))\n",
    "ax1.set_xlabel(\"Time (day)\")\n",
    "ax2.set_xlabel(\"Time (day)\")\n",
    "ax1.set_ylim(ylim)\n",
    "ax2.set_ylim(ylim);"
   ]
  },
  {
   "cell_type": "code",
   "execution_count": 12,
   "metadata": {
    "code_folding": []
   },
   "outputs": [],
   "source": [
    "# Get the Kewei's results\n",
    "import pandas as pd\n",
    "import numpy as np\n",
    "import matplotlib.pyplot as plt\n",
    "from matplotlib import gridspec\n",
    "from datetime import datetime\n",
    "\n",
    "assim_start_me, assim_start_enks = dar.assim_start_time, \"2017-04-01 02:00:00\"\n",
    "flux_posterior_file = os.path.join(app_dir, \"pflotran_input/flux_Kewei_posterior_woflowdir_mda1_reso5min2.txt\")\n",
    "flux_prior_file = os.path.join(app_dir, \"pflotran_input/flux_Kewei_prior_woflowdir_mda1_reso5min2.txt\")\n",
    "# flux_posterior_file = os.path.join(app_dir, \"pflotran_input/flux_Kewei_posterior_woflowdir.txt\")\n",
    "# flux_prior_file = os.path.join(app_dir, \"pflotran_input/flux_Kewei_prior_woflowdir.txt\")\n",
    "true_set = pd.read_csv(flux_file)\n",
    "prior, posterior = np.loadtxt(flux_prior_file), np.loadtxt(flux_posterior_file)\n",
    "_, nens = prior.shape\n",
    "assim_window = 1. / 24. / 12.  # Kewei's assimilation window (5min)\n",
    "fraction = int(assim_window / dar.assim_window)"
   ]
  },
  {
   "cell_type": "code",
   "execution_count": 13,
   "metadata": {
    "code_folding": [
     0
    ]
   },
   "outputs": [
    {
     "ename": "ZeroDivisionError",
     "evalue": "integer division or modulo by zero",
     "output_type": "error",
     "traceback": [
      "\u001b[0;31m---------------------------------------------------------------------------\u001b[0m",
      "\u001b[0;31mZeroDivisionError\u001b[0m                         Traceback (most recent call last)",
      "\u001b[0;32m<ipython-input-13-c2877af57fcc>\u001b[0m in \u001b[0;36m<module>\u001b[0;34m\u001b[0m\n\u001b[1;32m     14\u001b[0m \u001b[0;31m# enks_set_time = true_set_time[true_set_dates > ref_time_enks]\u001b[0m\u001b[0;34m\u001b[0m\u001b[0;34m\u001b[0m\u001b[0;34m\u001b[0m\u001b[0m\n\u001b[1;32m     15\u001b[0m \u001b[0;31m# enks_ind  = (enks_set_time >= model_start_time) & (enks_set_time <= model_end_time)\u001b[0m\u001b[0;34m\u001b[0m\u001b[0;34m\u001b[0m\u001b[0;34m\u001b[0m\u001b[0m\n\u001b[0;32m---> 16\u001b[0;31m \u001b[0mmodel_time_list\u001b[0m \u001b[0;34m=\u001b[0m \u001b[0;34m[\u001b[0m\u001b[0mdar\u001b[0m\u001b[0;34m.\u001b[0m\u001b[0mmodel_time_list\u001b[0m\u001b[0;34m[\u001b[0m\u001b[0mi\u001b[0m\u001b[0;34m]\u001b[0m \u001b[0;32mfor\u001b[0m \u001b[0mi\u001b[0m \u001b[0;32min\u001b[0m \u001b[0mrange\u001b[0m\u001b[0;34m(\u001b[0m\u001b[0mlen\u001b[0m\u001b[0;34m(\u001b[0m\u001b[0mdar\u001b[0m\u001b[0;34m.\u001b[0m\u001b[0mmodel_time_list\u001b[0m\u001b[0;34m)\u001b[0m\u001b[0;34m)\u001b[0m  \u001b[0;32mif\u001b[0m \u001b[0mi\u001b[0m \u001b[0;34m%\u001b[0m \u001b[0mfraction\u001b[0m \u001b[0;34m==\u001b[0m \u001b[0;36m0\u001b[0m\u001b[0;34m]\u001b[0m\u001b[0;34m\u001b[0m\u001b[0;34m\u001b[0m\u001b[0m\n\u001b[0m\u001b[1;32m     17\u001b[0m \u001b[0mntime\u001b[0m \u001b[0;34m=\u001b[0m \u001b[0mlen\u001b[0m\u001b[0;34m(\u001b[0m\u001b[0mmodel_time_list\u001b[0m\u001b[0;34m)\u001b[0m\u001b[0;34m\u001b[0m\u001b[0;34m\u001b[0m\u001b[0m\n\u001b[1;32m     18\u001b[0m \u001b[0manalyzed_prior_ens\u001b[0m \u001b[0;34m=\u001b[0m \u001b[0mprior\u001b[0m\u001b[0;34m[\u001b[0m\u001b[0;36m1\u001b[0m\u001b[0;34m:\u001b[0m\u001b[0;36m1\u001b[0m\u001b[0;34m+\u001b[0m\u001b[0mntime\u001b[0m\u001b[0;34m,\u001b[0m\u001b[0;34m:\u001b[0m\u001b[0;34m]\u001b[0m\u001b[0;34m.\u001b[0m\u001b[0mT\u001b[0m\u001b[0;34m\u001b[0m\u001b[0;34m\u001b[0m\u001b[0m\n",
      "\u001b[0;32m<ipython-input-13-c2877af57fcc>\u001b[0m in \u001b[0;36m<listcomp>\u001b[0;34m(.0)\u001b[0m\n\u001b[1;32m     14\u001b[0m \u001b[0;31m# enks_set_time = true_set_time[true_set_dates > ref_time_enks]\u001b[0m\u001b[0;34m\u001b[0m\u001b[0;34m\u001b[0m\u001b[0;34m\u001b[0m\u001b[0m\n\u001b[1;32m     15\u001b[0m \u001b[0;31m# enks_ind  = (enks_set_time >= model_start_time) & (enks_set_time <= model_end_time)\u001b[0m\u001b[0;34m\u001b[0m\u001b[0;34m\u001b[0m\u001b[0;34m\u001b[0m\u001b[0m\n\u001b[0;32m---> 16\u001b[0;31m \u001b[0mmodel_time_list\u001b[0m \u001b[0;34m=\u001b[0m \u001b[0;34m[\u001b[0m\u001b[0mdar\u001b[0m\u001b[0;34m.\u001b[0m\u001b[0mmodel_time_list\u001b[0m\u001b[0;34m[\u001b[0m\u001b[0mi\u001b[0m\u001b[0;34m]\u001b[0m \u001b[0;32mfor\u001b[0m \u001b[0mi\u001b[0m \u001b[0;32min\u001b[0m \u001b[0mrange\u001b[0m\u001b[0;34m(\u001b[0m\u001b[0mlen\u001b[0m\u001b[0;34m(\u001b[0m\u001b[0mdar\u001b[0m\u001b[0;34m.\u001b[0m\u001b[0mmodel_time_list\u001b[0m\u001b[0;34m)\u001b[0m\u001b[0;34m)\u001b[0m  \u001b[0;32mif\u001b[0m \u001b[0mi\u001b[0m \u001b[0;34m%\u001b[0m \u001b[0mfraction\u001b[0m \u001b[0;34m==\u001b[0m \u001b[0;36m0\u001b[0m\u001b[0;34m]\u001b[0m\u001b[0;34m\u001b[0m\u001b[0;34m\u001b[0m\u001b[0m\n\u001b[0m\u001b[1;32m     17\u001b[0m \u001b[0mntime\u001b[0m \u001b[0;34m=\u001b[0m \u001b[0mlen\u001b[0m\u001b[0;34m(\u001b[0m\u001b[0mmodel_time_list\u001b[0m\u001b[0;34m)\u001b[0m\u001b[0;34m\u001b[0m\u001b[0;34m\u001b[0m\u001b[0m\n\u001b[1;32m     18\u001b[0m \u001b[0manalyzed_prior_ens\u001b[0m \u001b[0;34m=\u001b[0m \u001b[0mprior\u001b[0m\u001b[0;34m[\u001b[0m\u001b[0;36m1\u001b[0m\u001b[0;34m:\u001b[0m\u001b[0;36m1\u001b[0m\u001b[0;34m+\u001b[0m\u001b[0mntime\u001b[0m\u001b[0;34m,\u001b[0m\u001b[0;34m:\u001b[0m\u001b[0;34m]\u001b[0m\u001b[0;34m.\u001b[0m\u001b[0mT\u001b[0m\u001b[0;34m\u001b[0m\u001b[0;34m\u001b[0m\u001b[0m\n",
      "\u001b[0;31mZeroDivisionError\u001b[0m: integer division or modulo by zero"
     ]
    }
   ],
   "source": [
    "# Get the time index\n",
    "model_start_time, model_end_time = dar.model_start_time, dar.model_end_time\n",
    "ref_time           = datetime.strptime(assim_start_me, \"%Y-%m-%d %H:%M:%S\")\n",
    "true_set_raw_time  = true_set.iloc[:, 0].values\n",
    "true_set_dates     = np.array([datetime.strptime(t, '%m/%d/%Y %H:%M') for t in true_set_raw_time])\n",
    "dates_ref          = [t-ref_time for t in true_set_dates]\n",
    "true_set_time      = np.array([t.days+float(t.seconds)/86400. for t in dates_ref])\n",
    "true               = true_set.iloc[:, 1].values\n",
    "true_set_used_ind  = (true_set_time >= model_start_time) & (true_set_time <= model_end_time)\n",
    "true_set_time_used = true_set_time[true_set_used_ind]\n",
    "true_set_used      = true[true_set_used_ind]\n",
    "\n",
    "# ref_time_enks      = datetime.strptime(assim_start_enks, \"%Y-%m-%d %H:%M:%S\")\n",
    "# enks_set_time = true_set_time[true_set_dates > ref_time_enks]\n",
    "# enks_ind  = (enks_set_time >= model_start_time) & (enks_set_time <= model_end_time)\n",
    "model_time_list = [dar.model_time_list[i] for i in range(len(dar.model_time_list))  if i % fraction == 0]\n",
    "ntime = len(model_time_list)\n",
    "analyzed_prior_ens = prior[1:1+ntime,:].T\n",
    "analyzed_posterior_ens = posterior[1:1+ntime, :].T"
   ]
  },
  {
   "cell_type": "code",
   "execution_count": 14,
   "metadata": {
    "code_folding": [
     0
    ]
   },
   "outputs": [
    {
     "ename": "NameError",
     "evalue": "name 'analyzed_prior_ens' is not defined",
     "output_type": "error",
     "traceback": [
      "\u001b[0;31m---------------------------------------------------------------------------\u001b[0m",
      "\u001b[0;31mNameError\u001b[0m                                 Traceback (most recent call last)",
      "\u001b[0;32m<ipython-input-14-9b61e92401b5>\u001b[0m in \u001b[0;36m<module>\u001b[0;34m\u001b[0m\n\u001b[1;32m      6\u001b[0m \u001b[0max1\u001b[0m \u001b[0;34m=\u001b[0m \u001b[0mplt\u001b[0m\u001b[0;34m.\u001b[0m\u001b[0msubplot\u001b[0m\u001b[0;34m(\u001b[0m\u001b[0mgs\u001b[0m\u001b[0;34m[\u001b[0m\u001b[0;36m0\u001b[0m\u001b[0;34m,\u001b[0m \u001b[0;36m0\u001b[0m\u001b[0;34m]\u001b[0m\u001b[0;34m)\u001b[0m\u001b[0;34m\u001b[0m\u001b[0;34m\u001b[0m\u001b[0m\n\u001b[1;32m      7\u001b[0m \u001b[0;32mfor\u001b[0m \u001b[0mj\u001b[0m \u001b[0;32min\u001b[0m \u001b[0mrange\u001b[0m\u001b[0;34m(\u001b[0m\u001b[0mnens\u001b[0m\u001b[0;34m)\u001b[0m\u001b[0;34m:\u001b[0m\u001b[0;34m\u001b[0m\u001b[0;34m\u001b[0m\u001b[0m\n\u001b[0;32m----> 8\u001b[0;31m     \u001b[0mprior_ens\u001b[0m \u001b[0;34m=\u001b[0m \u001b[0manalyzed_prior_ens\u001b[0m\u001b[0;34m[\u001b[0m\u001b[0mj\u001b[0m\u001b[0;34m,\u001b[0m \u001b[0;34m:\u001b[0m\u001b[0;34m]\u001b[0m\u001b[0;34m\u001b[0m\u001b[0;34m\u001b[0m\u001b[0m\n\u001b[0m\u001b[1;32m      9\u001b[0m     line1, = ax1.plot(model_time_list, prior_ens, color='grey',\n\u001b[1;32m     10\u001b[0m                       linewidth=0.5, linestyle=':', label='ensemble')\n",
      "\u001b[0;31mNameError\u001b[0m: name 'analyzed_prior_ens' is not defined"
     ]
    },
    {
     "data": {
      "image/png": "[encoded data removed]",
      "text/plain": [
       "<Figure size 1500x450 with 1 Axes>"
      ]
     },
     "metadata": {
      "needs_background": "light"
     },
     "output_type": "display_data"
    }
   ],
   "source": [
    "# Plot\n",
    "ylim=[-4, 4]\n",
    "fig = plt.figure(num=1, dpi=150,figsize=(10, 3), constrained_layout=True)\n",
    "gs  = gridspec.GridSpec(1, 2, width_ratios=[1, 1])\n",
    "# Plot the prior\n",
    "ax1 = plt.subplot(gs[0, 0])\n",
    "for j in range(nens):\n",
    "    prior_ens = analyzed_prior_ens[j, :]\n",
    "    line1, = ax1.plot(model_time_list, prior_ens, color='grey',\n",
    "                      linewidth=0.5, linestyle=':', label='ensemble')\n",
    "prior_mean = np.mean(analyzed_prior_ens, axis=(0))\n",
    "line2, = ax1.plot(model_time_list, prior_mean, color='red',\n",
    "                  linewidth=1, label='mean')\n",
    "line3, = ax1.plot(true_set_time_used, true_set_used, color='black',\n",
    "                  linewidth=1, label='obs')\n",
    "\n",
    "# Plot the posterior\n",
    "ax2 = plt.subplot(gs[0, 1])\n",
    "for j in range(nens):\n",
    "    posterior_ens = analyzed_posterior_ens[j, :]\n",
    "    line1, = ax2.plot(model_time_list, posterior_ens, color='grey',\n",
    "                      linewidth=0.5, linestyle=':', label='ensemble')\n",
    "posterior_mean = np.mean(analyzed_posterior_ens, axis=(0))\n",
    "line2, = ax2.plot(model_time_list, posterior_mean, color='red',\n",
    "                  linewidth=1, label='mean')\n",
    "line3, = ax2.plot(true_set_time_used, true_set_used, color='black',\n",
    "                  linewidth=1, label='obs')\n",
    "\n",
    "# Plot the legends\n",
    "plt.legend((line1, line2, line3), ('ensemble', 'mean', 'obs'),\n",
    "           frameon=False, ncol=3, loc=\"center\", bbox_to_anchor=(0.0, -0.5))\n",
    "\n",
    "# Plot the labels and titles\n",
    "ax1.set_title(\"Prior ({} from Kewei) \\n assimilation window: 5min\".format('FLOW_FLUX'))\n",
    "ax2.set_title(\"Posterior ({} from Kewei) \\n assimilation window: 5min\".format('FLOW_FLUX'))\n",
    "ax1.set_xlabel(\"Time (day)\")\n",
    "ax2.set_xlabel(\"Time (day)\")\n",
    "ax1.set_ylim(ylim)\n",
    "ax2.set_ylim(ylim);"
   ]
  },
  {
   "cell_type": "code",
   "execution_count": null,
   "metadata": {},
   "outputs": [],
   "source": []
  }
 ],
 "metadata": {
  "file_extension": ".py",
  "kernelspec": {
   "display_name": "Python 3",
   "language": "python",
   "name": "python3"
  },
  "language_info": {
   "codemirror_mode": {
    "name": "ipython",
    "version": 3
   },
   "file_extension": ".py",
   "mimetype": "text/x-python",
   "name": "python",
   "nbconvert_exporter": "python",
   "pygments_lexer": "ipython3",
   "version": "3.7.3"
  },
  "mimetype": "text/x-python",
  "name": "python",
  "npconvert_exporter": "python",
  "pygments_lexer": "ipython3",
  "toc": {
   "base_numbering": 1,
   "nav_menu": {},
   "number_sections": true,
   "sideBar": true,
   "skip_h1_title": false,
   "title_cell": "Table of Contents",
   "title_sidebar": "Contents",
   "toc_cell": false,
   "toc_position": {
    "height": "calc(100% - 180px)",
    "left": "10px",
    "top": "150px",
    "width": "165px"
   },
   "toc_section_display": true,
   "toc_window_display": true
  },
  "varInspector": {
   "cols": {
    "lenName": 16,
    "lenType": 16,
    "lenVar": 40
   },
   "kernels_config": {
    "python": {
     "delete_cmd_postfix": "",
     "delete_cmd_prefix": "del ",
     "library": "var_list.py",
     "varRefreshCmd": "print(var_dic_list())"
    },
    "r": {
     "delete_cmd_postfix": ") ",
     "delete_cmd_prefix": "rm(",
     "library": "var_list.r",
     "varRefreshCmd": "cat(var_dic_list()) "
    }
   },
   "types_to_exclude": [
    "module",
    "function",
    "builtin_function_or_method",
    "instance",
    "_Feature"
   ],
   "window_display": false
  },
  "version": 3
 },
 "nbformat": 4,
 "nbformat_minor": 2
}
