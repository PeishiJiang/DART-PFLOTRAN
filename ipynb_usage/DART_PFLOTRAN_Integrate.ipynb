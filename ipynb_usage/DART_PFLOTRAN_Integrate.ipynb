{
 "cells": [
  {
   "cell_type": "markdown",
   "metadata": {
    "toc": true
   },
   "source": [
    "<h1>Table of Contents<span class=\"tocSkip\"></span></h1>\n",
    "<div class=\"toc\"><ul class=\"toc-item\"><li><span><a href=\"#Parameter-settings\" data-toc-modified-id=\"Parameter-settings-1\"><span class=\"toc-item-num\">1&nbsp;&nbsp;</span>Parameter settings</a></span></li><li><span><a href=\"#PFLOTRAN-preparation-&amp;-spin-up\" data-toc-modified-id=\"PFLOTRAN-preparation-&amp;-spin-up-2\"><span class=\"toc-item-num\">2&nbsp;&nbsp;</span>PFLOTRAN preparation &amp; spin-up</a></span><ul class=\"toc-item\"><li><span><a href=\"#Generate-PFLOTRAN.in-and-parameter.h5\" data-toc-modified-id=\"Generate-PFLOTRAN.in-and-parameter.h5-2.1\"><span class=\"toc-item-num\">2.1&nbsp;&nbsp;</span>Generate <code>PFLOTRAN.in</code> and <code>parameter.h5</code></a></span></li><li><span><a href=\"#Model-spin-up\" data-toc-modified-id=\"Model-spin-up-2.2\"><span class=\"toc-item-num\">2.2&nbsp;&nbsp;</span>Model spin-up</a></span></li></ul></li><li><span><a href=\"#DART-files-preparation\" data-toc-modified-id=\"DART-files-preparation-3\"><span class=\"toc-item-num\">3&nbsp;&nbsp;</span>DART files preparation</a></span><ul class=\"toc-item\"><li><span><a href=\"#Generate-the-templates-for-DART-generic-variable-quantity-files\" data-toc-modified-id=\"Generate-the-templates-for-DART-generic-variable-quantity-files-3.1\"><span class=\"toc-item-num\">3.1&nbsp;&nbsp;</span>Generate the templates for DART generic variable quantity files</a></span></li><li><span><a href=\"#Preprocess-the-DART-generic-variable-quantity-files\" data-toc-modified-id=\"Preprocess-the-DART-generic-variable-quantity-files-3.2\"><span class=\"toc-item-num\">3.2&nbsp;&nbsp;</span><code>Preprocess</code> the DART generic variable quantity files</a></span></li><li><span><a href=\"#Convert-observation-to-DART-observation-format\" data-toc-modified-id=\"Convert-observation-to-DART-observation-format-3.3\"><span class=\"toc-item-num\">3.3&nbsp;&nbsp;</span>Convert observation to DART observation format</a></span></li><li><span><a href=\"#(TODO)-Generate-prior.nc-from-the-model-spin-up\" data-toc-modified-id=\"(TODO)-Generate-prior.nc-from-the-model-spin-up-3.4\"><span class=\"toc-item-num\">3.4&nbsp;&nbsp;</span>(TODO) Generate <code>prior.nc</code> from the model spin-up</a></span></li><li><span><a href=\"#(TODO)-Generate-input.nml\" data-toc-modified-id=\"(TODO)-Generate-input.nml-3.5\"><span class=\"toc-item-num\">3.5&nbsp;&nbsp;</span>(TODO) Generate <code>input.nml</code></a></span></li><li><span><a href=\"#Run-check_model_mod\" data-toc-modified-id=\"Run-check_model_mod-3.6\"><span class=\"toc-item-num\">3.6&nbsp;&nbsp;</span>Run <code>check_model_mod</code></a></span></li></ul></li><li><span><a href=\"#(TODO)-Run-DART-and-PFLOTRAN\" data-toc-modified-id=\"(TODO)-Run-DART-and-PFLOTRAN-4\"><span class=\"toc-item-num\">4&nbsp;&nbsp;</span>(TODO) Run DART and PFLOTRAN</a></span></li></ul></div>"
   ]
  },
  {
   "cell_type": "markdown",
   "metadata": {},
   "source": [
    "# Parameter settings"
   ]
  },
  {
   "cell_type": "code",
   "execution_count": 70,
   "metadata": {
    "code_folding": []
   },
   "outputs": [],
   "source": [
    "# Directories\n",
    "obs_kind_dir    = '../obs_kind/'\n",
    "obs_type_dir    = '../obs_type/'\n",
    "obs_convert_dir = '../obs_converter/'\n",
    "utils_dir       = '../utils/'\n",
    "work_dir        = '../work/'\n",
    "pflotran_in_dir = '../pflotran_input/'\n",
    "pflotran_out_dir= '../pflotran_output/'\n",
    "dart_data_dir   = '../dart_inout/'\n",
    "# data_dir        = '../data_files/'\n",
    "\n",
    "# DART file names\n",
    "def_obs_kind = obs_kind_dir+'DEFAULT_obs_kind_mod.f90'\n",
    "obs_type     = obs_type_dir+'obs_def_pflotran_mod.f90'\n",
    "input_nml    = utils_dir+'input.nml'\n",
    "\n",
    "# PFLOTRAN file names\n",
    "pflotran_sh   = utils_dir+'pflotran.sh'\n",
    "pflotran_exe  = '/Users/jian449/Codes/pflotran/src/pflotran/pflotran'\n",
    "pflotran_in   = pflotran_in_dir+'pflotran.in'\n",
    "pflotran_para = pflotran_in_dir+'parameter.h5'\n",
    "pflotran_out  = pflotran_out_dir+'pflotran.out'\n",
    "\n",
    "# Data file names, including observations and model input/output\n",
    "obs_original = pflotran_in+'temperature.csv'\n",
    "obs_nc       = pflotran_in+'obs_pflotran.nc'\n",
    "obs_dart     = dart_data_dir+'obs_seq_pflotran.out'\n",
    "prior_nc     = dart_data_dir+'prior_template.nc'\n",
    "\n",
    "# Some shell scripts\n",
    "compile_convert_nc      = obs_convert_dir+'dart_seq_convert.csh'\n",
    "compile_model_check_mod = work_dir+'check_model_mod.csh'\n",
    "run_filter              = work_dir+'run_filter.csh'\n",
    "\n",
    "# MPI settings\n",
    "mpi_exe = '/usr/local/bin/mpirun'\n",
    "ncore   = 2\n",
    "\n",
    "# Utility file names\n",
    "csv_to_nc          = utils_dir+'csv2nc.py'\n",
    "convert_nc         = obs_convert_dir+'convert_nc'\n",
    "to_dartqty         = utils_dir+'list2dartqty.py'\n",
    "obs_type_qty_ind   = utils_dir+'obs_type_qty_ind.txt'\n",
    "prep_pflotran_in   = utils_dir+'prepare_pflotran_inpara.py'\n",
    "prep_obs_nc        = utils_dir+'prepare_obs_nc.py'\n",
    "prep_prior_nc      = utils_dir+'prepare_prior_nc.py'\n",
    "prep_inputnml      = utils_dir+'prepare_inputnml.py'"
   ]
  },
  {
   "cell_type": "code",
   "execution_count": 68,
   "metadata": {},
   "outputs": [],
   "source": [
    "# Data assimilation configurations\n",
    "# More need to be added...\n",
    "# And later on, these DA setting can be saved in a txt or pickel file for further loading\n",
    "obs_timestep = 300.0  # second\n",
    "obs_error    = 0.1    # observation error\n",
    "spinup       = 1      # whether model spinup\n",
    "nens         = 30     # number of ensembles\n",
    "\n",
    "# Specify PFLOTRAN variables used as observation and state vector/parameters in DART\n",
    "obs_var_set = ['TEMPERATURE']\n",
    "para_set    = ['FLUX','POROSITY','THERMALCONDUCTIVITY']\n",
    "# state_set   = ['LIQUID_SATURATION','LIQUID_PRESSURE', 'TEST_VARIABLE', 'TEST_VARIABLEAAA'\n",
    "pflotran_parastate_set = obs_var_set + para_set"
   ]
  },
  {
   "cell_type": "markdown",
   "metadata": {},
   "source": [
    "# PFLOTRAN preparation & spin-up\n",
    "**Here, we use Kewei's 1D thermal model as an example for generating PFLOTRAN input card and parameter.h5.**\n",
    "\n",
    "In this section, the following procedures are conducted for PFLOTRAN:\n",
    "- generate ```PFLOTRAN.in``` (for 1D thermal model, check Kewei's code)\n",
    "- generate the parameter files in HDF 5, ```parameter.h5``` (for 1D thermal model, check Kewei's code)\n",
    "- conduct model spin-up and generate PFLOTRAN output in HDF 5 format, ```PFLOTRAN.h5```"
   ]
  },
  {
   "cell_type": "markdown",
   "metadata": {},
   "source": [
    "## Generate ```PFLOTRAN.in``` and ```parameter.h5```\n",
    "- Run: ```prepare_pflotran_inpara.py```\n",
    "- Code input arguments:\n",
    "    - filename for ```pflotran.in```\n",
    "    - filename for ```parameter.h5```\n",
    "    - data assimilation settings (**to be revised later on**): observation timestep, observation error, number of ensemble, whether it is spinup"
   ]
  },
  {
   "cell_type": "code",
   "execution_count": 86,
   "metadata": {},
   "outputs": [
    {
     "name": "stdout",
     "output_type": "stream",
     "text": [
      "Finished generating the input card for PFLOTRAN...\n",
      "Finished generating the DBASE for PFLOTRAN...\n"
     ]
    }
   ],
   "source": [
    "%%script bash -s \"$prep_pflotran_in\" \"$pflotran_in\" \"$pflotran_para\" \"$obs_timestep\" \"$obs_error\" \"$nens\" \"$spinup\"\n",
    "python $1 $2 $3 $4 $5 $6 $7"
   ]
  },
  {
   "cell_type": "markdown",
   "metadata": {},
   "source": [
    "## Model spin-up\n",
    "Take in the ```pflotran.in``` and ```parameter.h5``` files and conduct the model spin-up by running ```pflotran.sh``` file. The ```pflotran.sh``` is a simple shell script executing ensemble simulation of PFLOTRAN by using MPI."
   ]
  },
  {
   "cell_type": "code",
   "execution_count": 88,
   "metadata": {
    "scrolled": true
   },
   "outputs": [
    {
     "name": "stdout",
     "output_type": "stream",
     "text": [
      "../pflotran_input/pflotran.in\n",
      "../pflotran_input/pflotran.in\n",
      " here\n",
      "          30\n",
      " here\n",
      "          30\n",
      "Finished running PFLOTRAN...\n"
     ]
    },
    {
     "name": "stderr",
     "output_type": "stream",
     "text": [
      "HDF5-DIAG: Error detected in HDF5 (1.8.18) MPI-process 0:\n",
      "  #000: H5D.c line 165 in H5Dcreate2(): not a location ID\n",
      "    major: Invalid arguments to routine\n",
      "    minor: Inappropriate type\n",
      "  #001: H5Gloc.c line 253 in H5G_loc(): invalid object ID\n",
      "    major: Invalid arguments to routine\n",
      "    minor: Bad value\n",
      "HDF5-DIAG: Error detected in HDF5 (1.8.18) MPI-process 0:\n",
      "  #000: H5Dio.c line 228 in H5Dwrite(): not a dataset\n",
      "    major: Invalid arguments to routine\n",
      "    minor: Inappropriate type\n",
      "HDF5-DIAG: Error detected in HDF5 (1.8.18) MPI-process 0:\n",
      "  #000: H5D.c line 415 in H5Dclose(): not a dataset\n",
      "    major: Invalid arguments to routine\n",
      "    minor: Inappropriate type\n",
      "HDF5-DIAG: Error detected in HDF5 (1.8.18) MPI-process 0:\n",
      "  #000: H5D.c line 165 in H5Dcreate2(): not a location ID\n",
      "    major: Invalid arguments to routine\n",
      "    minor: Inappropriate type\n",
      "  #001: H5Gloc.c line 253 in H5G_loc(): invalid object ID\n",
      "    major: Invalid arguments to routine\n",
      "    minor: Bad value\n",
      "HDF5-DIAG: Error detected in HDF5 (1.8.18) MPI-process 0:\n",
      "  #000: H5Dio.c line 228 in H5Dwrite(): not a dataset\n",
      "    major: Invalid arguments to routine\n",
      "    minor: Inappropriate type\n",
      "HDF5-DIAG: Error detected in HDF5 (1.8.18) MPI-process 0:\n",
      "  #000: H5D.c line 415 in H5Dclose(): not a dataset\n",
      "    major: Invalid arguments to routine\n",
      "    minor: Inappropriate type\n",
      "HDF5-DIAG: Error detected in HDF5 (1.8.18) MPI-process 0:\n",
      "  #000: H5D.c line 165 in H5Dcreate2(): not a location ID\n",
      "    major: Invalid arguments to routine\n",
      "    minor: Inappropriate type\n",
      "  #001: H5Gloc.c line 253 in H5G_loc(): invalid object ID\n",
      "    major: Invalid arguments to routine\n",
      "    minor: Bad value\n",
      "HDF5-DIAG: Error detected in HDF5 (1.8.18) MPI-process 0:\n",
      "  #000: H5Dio.c line 228 in H5Dwrite(): not a dataset\n",
      "    major: Invalid arguments to routine\n",
      "    minor: Inappropriate type\n",
      "HDF5-DIAG: Error detected in HDF5 (1.8.18) MPI-process 0:\n",
      "  #000: H5D.c line 415 in H5Dclose(): not a dataset\n",
      "    major: Invalid arguments to routine\n",
      "    minor: Inappropriate type\n",
      "HDF5-DIAG: Error detected in HDF5 (1.8.18) MPI-process 0:\n",
      "  #000: H5G.c line 812 in H5Gclose(): not a group\n",
      "    major: Invalid arguments to routine\n",
      "    minor: Inappropriate type\n",
      "HDF5-DIAG: Error detected in HDF5 (1.8.18) MPI-process 0:\n",
      "  #000: H5D.c line 165 in H5Dcreate2(): not a location ID\n",
      "    major: Invalid arguments to routine\n",
      "    minor: Inappropriate type\n",
      "  #001: H5Gloc.c line 253 in H5G_loc(): invalid object ID\n",
      "    major: Invalid arguments to routine\n",
      "    minor: Bad value\n",
      "HDF5-DIAG: Error detected in HDF5 (1.8.18) MPI-process 0:\n",
      "  #000: H5Dio.c line 228 in H5Dwrite(): not a dataset\n",
      "    major: Invalid arguments to routine\n",
      "    minor: Inappropriate type\n",
      "HDF5-DIAG: Error detected in HDF5 (1.8.18) MPI-process 0:\n",
      "  #000: H5D.c line 415 in H5Dclose(): not a dataset\n",
      "    major: Invalid arguments to routine\n",
      "    minor: Inappropriate type\n",
      "HDF5-DIAG: Error detected in HDF5 (1.8.18) MPI-process 0:\n",
      "  #000: H5D.c line 165 in H5Dcreate2(): not a location ID\n",
      "    major: Invalid arguments to routine\n",
      "    minor: Inappropriate type\n",
      "  #001: H5Gloc.c line 253 in H5G_loc(): invalid object ID\n",
      "    major: Invalid arguments to routine\n",
      "    minor: Bad value\n",
      "HDF5-DIAG: Error detected in HDF5 (1.8.18) MPI-process 0:\n",
      "  #000: H5Dio.c line 228 in H5Dwrite(): not a dataset\n",
      "    major: Invalid arguments to routine\n",
      "    minor: Inappropriate type\n",
      "HDF5-DIAG: Error detected in HDF5 (1.8.18) MPI-process 0:\n",
      "  #000: H5D.c line 415 in H5Dclose(): not a dataset\n",
      "    major: Invalid arguments to routine\n",
      "    minor: Inappropriate type\n",
      "HDF5-DIAG: Error detected in HDF5 (1.8.18) MPI-process 0:\n",
      "  #000: H5D.c line 165 in H5Dcreate2(): not a location ID\n",
      "    major: Invalid arguments to routine\n",
      "    minor: Inappropriate type\n",
      "  #001: H5Gloc.c line 253 in H5G_loc(): invalid object ID\n",
      "    major: Invalid arguments to routine\n",
      "    minor: Bad value\n",
      "HDF5-DIAG: Error detected in HDF5 (1.8.18) MPI-process 0:\n",
      "  #000: H5Dio.c line 228 in H5Dwrite(): not a dataset\n",
      "    major: Invalid arguments to routine\n",
      "    minor: Inappropriate type\n",
      "HDF5-DIAG: Error detected in HDF5 (1.8.18) MPI-process 0:\n",
      "  #000: H5D.c line 415 in H5Dclose(): not a dataset\n",
      "    major: Invalid arguments to routine\n",
      "    minor: Inappropriate type\n",
      "HDF5-DIAG: Error detected in HDF5 (1.8.18) MPI-process 0:\n",
      "  #000: H5G.c line 812 in H5Gclose(): not a group\n",
      "    major: Invalid arguments to routine\n",
      "    minor: Inappropriate type\n",
      "HDF5-DIAG: Error detected in HDF5 (1.8.18) MPI-process 0:\n",
      "  #000: H5D.c line 165 in H5Dcreate2(): not a location ID\n",
      "    major: Invalid arguments to routine\n",
      "    minor: Inappropriate type\n",
      "  #001: H5Gloc.c line 253 in H5G_loc(): invalid object ID\n",
      "    major: Invalid arguments to routine\n",
      "    minor: Bad value\n",
      "HDF5-DIAG: Error detected in HDF5 (1.8.18) MPI-process 0:\n",
      "  #000: H5Dio.c line 228 in H5Dwrite(): not a dataset\n",
      "    major: Invalid arguments to routine\n",
      "    minor: Inappropriate type\n",
      "HDF5-DIAG: Error detected in HDF5 (1.8.18) MPI-process 0:\n",
      "  #000: H5D.c line 415 in H5Dclose(): not a dataset\n",
      "    major: Invalid arguments to routine\n",
      "    minor: Inappropriate type\n",
      "HDF5-DIAG: Error detected in HDF5 (1.8.18) MPI-process 0:\n",
      "  #000: H5D.c line 165 in H5Dcreate2(): not a location ID\n",
      "    major: Invalid arguments to routine\n",
      "    minor: Inappropriate type\n",
      "  #001: H5Gloc.c line 253 in H5G_loc(): invalid object ID\n",
      "    major: Invalid arguments to routine\n",
      "    minor: Bad value\n",
      "HDF5-DIAG: Error detected in HDF5 (1.8.18) MPI-process 0:\n",
      "  #000: H5Dio.c line 228 in H5Dwrite(): not a dataset\n",
      "    major: Invalid arguments to routine\n",
      "    minor: Inappropriate type\n",
      "HDF5-DIAG: Error detected in HDF5 (1.8.18) MPI-process 0:\n",
      "  #000: H5D.c line 415 in H5Dclose(): not a dataset\n",
      "    major: Invalid arguments to routine\n",
      "    minor: Inappropriate type\n",
      "HDF5-DIAG: Error detected in HDF5 (1.8.18) MPI-process 0:\n",
      "  #000: H5D.c line 165 in H5Dcreate2(): not a location ID\n",
      "    major: Invalid arguments to routine\n",
      "    minor: Inappropriate type\n",
      "  #001: H5Gloc.c line 253 in H5G_loc(): invalid object ID\n",
      "    major: Invalid arguments to routine\n",
      "    minor: Bad value\n",
      "HDF5-DIAG: Error detected in HDF5 (1.8.18) MPI-process 0:\n",
      "  #000: H5Dio.c line 228 in H5Dwrite(): not a dataset\n",
      "    major: Invalid arguments to routine\n",
      "    minor: Inappropriate type\n",
      "HDF5-DIAG: Error detected in HDF5 (1.8.18) MPI-process 0:\n",
      "  #000: H5D.c line 415 in H5Dclose(): not a dataset\n",
      "    major: Invalid arguments to routine\n",
      "    minor: Inappropriate type\n",
      "HDF5-DIAG: Error detected in HDF5 (1.8.18) MPI-process 0:\n",
      "  #000: H5G.c line 812 in H5Gclose(): not a group\n",
      "    major: Invalid arguments to routine\n",
      "    minor: Inappropriate type\n"
     ]
    }
   ],
   "source": [
    "%%script bash -s \"$pflotran_sh\" \"$pflotran_exe\" \"$pflotran_in\" \"$pflotran_out_dir\" \"$nens\" \"$mpi_exe\" \"$ncore\"\n",
    "echo $3\n",
    "$1 $2 $3 $4 $5 $6 $7"
   ]
  },
  {
   "cell_type": "markdown",
   "metadata": {},
   "source": [
    "# DART files preparation\n",
    "In this section, the following procedures are conducted for DART:\n",
    "- generate the template for DART generic variable quantity files (i.e., ```DEFAULT_obs_kind_mod.F90``` and ```obs_def_pflotran_mod.f90```);\n",
    "- run ```preprocess``` to generate the rest of DART generic variable quantity files;\n",
    "- convert the observation file to DART observation format;\n",
    "- generate ```prior.nc``` at the first time step;\n",
    "- generate ```input.nml```;\n",
    "- conduct ```check_model_mod```."
   ]
  },
  {
   "cell_type": "markdown",
   "metadata": {},
   "source": [
    "## Generate the templates for DART generic variable quantity files\n",
    "- Run: ```list2dartqty.py```\n",
    "- Code input arguments:\n",
    "    - filename for ```DEFAULT_obs_kind_mod.F90```\n",
    "    - filename for ```obs_def_pflotran_mod.F90```\n",
    "    - a list of variables required to be assimilated"
   ]
  },
  {
   "cell_type": "code",
   "execution_count": null,
   "metadata": {},
   "outputs": [],
   "source": [
    "%%script bash -s \"$to_dartqty\" \"$obs_type\" \"$def_obs_kind\" \"$pflotran_parastate_set\"\n",
    "python $1 $2 $3 $4"
   ]
  },
  {
   "cell_type": "markdown",
   "metadata": {},
   "source": [
    "## ```Preprocess``` the DART generic variable quantity files\n",
    "- Run shell script: ```dart_seq_convert.csh```\n",
    "- This shell script \n",
    "    - preprocesses the DART generic variable quantity files prepared by the previous section\n",
    "    - generates an executable file for converting observation file in NetCDF format to DART format used by the next section"
   ]
  },
  {
   "cell_type": "code",
   "execution_count": null,
   "metadata": {},
   "outputs": [],
   "source": [
    "%%script bash -s \"$obs_convert_dir\" \"$compile_convert_nc\"\n",
    "cd $1\n",
    "csh $2"
   ]
  },
  {
   "cell_type": "markdown",
   "metadata": {},
   "source": [
    "## Convert observation to DART observation format\n",
    "- Run: ```prepare_obs_nc.py``` to convert the raw csv temperature observations to NetCDF file\n",
    "- Run: ```convert_nc``` to convert the observation file in NetCDF to DART format"
   ]
  },
  {
   "cell_type": "code",
   "execution_count": null,
   "metadata": {},
   "outputs": [],
   "source": [
    "# Convert the observation to NetCDF format\n",
    "%%script bash -s \"$prep_obs_nc\" \"$obs_nc\"\n",
    "python $1 $2"
   ]
  },
  {
   "cell_type": "code",
   "execution_count": null,
   "metadata": {},
   "outputs": [],
   "source": [
    "# Convert the observation to DART format\n",
    "%%script bash -s \"$obs_convert_dir\" \"$convert_nc\"\n",
    "cd $1\n",
    "$2"
   ]
  },
  {
   "cell_type": "markdown",
   "metadata": {},
   "source": [
    "## (TODO) Generate ```prior.nc``` from the model spin-up\n",
    "- Run: ```prepare_prior_nc.py```\n",
    "- Code input arguments:\n",
    "    - filename ```prior_template.nc```\n",
    "    - pflotran parameter HDF file ```parameter.h5```\n",
    "    - a list of variables to be assimilated"
   ]
  },
  {
   "cell_type": "code",
   "execution_count": null,
   "metadata": {},
   "outputs": [],
   "source": [
    "%%script bash -s \"$prep_prior_nc\" \"$prior_nc\" \"$pflotran_para\" \"$pflotran_parastate_set\"\n",
    "python $1 $2 $3 $4"
   ]
  },
  {
   "cell_type": "markdown",
   "metadata": {},
   "source": [
    "## (TODO) Generate ```input.nml```\n",
    "- Run: ```prepare_inputnml.py```\n",
    "- Code input arguments:\n",
    "    - filename ```input_nml```\n",
    "    - filename ```prior_template.nc```\n",
    "    - a list of variables to be assimilated"
   ]
  },
  {
   "cell_type": "code",
   "execution_count": null,
   "metadata": {},
   "outputs": [],
   "source": [
    "%%script bash -s  \"$prep_inputnml\" \"$input_nml\" \"$prior_nc\" \"$pflotran_parastate_set\"\n",
    "python $1 $2 $3 $4"
   ]
  },
  {
   "cell_type": "markdown",
   "metadata": {},
   "source": [
    "## Run ```check_model_mod```\n",
    "- Run shell script: ```dart_seq_convert.csh```\n",
    "- This shell script \n",
    "    - preprocesses the DART generic variable quantity files prepared by the previous section\n",
    "    - generates an executable file for converting observation file in NetCDF format to DART format used by the next section"
   ]
  },
  {
   "cell_type": "code",
   "execution_count": null,
   "metadata": {},
   "outputs": [],
   "source": [
    "%%script bash -s \"$work_dir\" \"$compile_model_check_mod\"\n",
    "cd $1\n",
    "csh $2"
   ]
  },
  {
   "cell_type": "markdown",
   "metadata": {},
   "source": [
    "# (TODO) Run DART and PFLOTRAN\n",
    "In this section, run the shell script to couple DART and PFLOTRAN"
   ]
  },
  {
   "cell_type": "code",
   "execution_count": null,
   "metadata": {},
   "outputs": [],
   "source": [
    "%%script bash -s \"$work_dir\" \"$run_filter\"\n",
    "cd $1\n",
    "csh $2"
   ]
  }
 ],
 "metadata": {
  "kernelspec": {
   "display_name": "Python 3",
   "language": "python",
   "name": "python3"
  },
  "language_info": {
   "codemirror_mode": {
    "name": "ipython",
    "version": 3
   },
   "file_extension": ".py",
   "mimetype": "text/x-python",
   "name": "python",
   "nbconvert_exporter": "python",
   "pygments_lexer": "ipython3",
   "version": "3.7.3"
  },
  "toc": {
   "base_numbering": 1,
   "nav_menu": {},
   "number_sections": true,
   "sideBar": true,
   "skip_h1_title": false,
   "title_cell": "Table of Contents",
   "title_sidebar": "Contents",
   "toc_cell": true,
   "toc_position": {},
   "toc_section_display": true,
   "toc_window_display": true
  },
  "varInspector": {
   "cols": {
    "lenName": 16,
    "lenType": 16,
    "lenVar": 40
   },
   "kernels_config": {
    "python": {
     "delete_cmd_postfix": "",
     "delete_cmd_prefix": "del ",
     "library": "var_list.py",
     "varRefreshCmd": "print(var_dic_list())"
    },
    "r": {
     "delete_cmd_postfix": ") ",
     "delete_cmd_prefix": "rm(",
     "library": "var_list.r",
     "varRefreshCmd": "cat(var_dic_list()) "
    }
   },
   "types_to_exclude": [
    "module",
    "function",
    "builtin_function_or_method",
    "instance",
    "_Feature"
   ],
   "window_display": false
  }
 },
 "nbformat": 4,
 "nbformat_minor": 2
}
