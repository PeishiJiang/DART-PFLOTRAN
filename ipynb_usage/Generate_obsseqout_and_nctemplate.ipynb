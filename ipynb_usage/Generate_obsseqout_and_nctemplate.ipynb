{
 "cells": [
  {
   "cell_type": "markdown",
   "metadata": {
    "toc": true
   },
   "source": [
    "<h1>Table of Contents<span class=\"tocSkip\"></span></h1>\n",
    "<div class=\"toc\"><ul class=\"toc-item\"><li><span><a href=\"#Parameter-settings\" data-toc-modified-id=\"Parameter-settings-1\">Parameter settings</a></span></li><li><span><a href=\"#Convert-the-temperature-.csv-file-to-NetCDF-file\" data-toc-modified-id=\"Convert-the-temperature-.csv-file-to-NetCDF-file-2\">Convert the temperature .csv file to NetCDF file</a></span></li><li><span><a href=\"#Generate-the-template-prior.nc-file\" data-toc-modified-id=\"Generate-the-template-prior.nc-file-3\">Generate the template prior.nc file</a></span></li><li><span><a href=\"#Generate-the-DART-variable-quantity-files\" data-toc-modified-id=\"Generate-the-DART-variable-quantity-files-4\">Generate the DART variable quantity files</a></span></li><li><span><a href=\"#Generate-the-DART-observation-file-from-NetCDF-observation-file\" data-toc-modified-id=\"Generate-the-DART-observation-file-from-NetCDF-observation-file-5\">Generate the DART observation file from NetCDF observation file</a></span><ul class=\"toc-item\"><li><span><a href=\"#Prepare-the-convert_nc.f90-file\" data-toc-modified-id=\"Prepare-the-convert_nc.f90-file-5.1\">Prepare the convert_nc.f90 file</a></span></li><li><span><a href=\"#Compile-convert_nc.f90-file\" data-toc-modified-id=\"Compile-convert_nc.f90-file-5.2\">Compile convert_nc.f90 file</a></span></li><li><span><a href=\"#Generate-the-DART-observation-file-by-using-the-convert_nc.f90\" data-toc-modified-id=\"Generate-the-DART-observation-file-by-using-the-convert_nc.f90-5.3\">Generate the DART observation file by using the convert_nc.f90</a></span></li></ul></li></ul></div>"
   ]
  },
  {
   "cell_type": "markdown",
   "metadata": {},
   "source": [
    "**This notebook is used for**\n",
    "- generating the [DART](https://www.image.ucar.edu/DAReS/DART/Manhattan/documentation/index.html) observation file (obs_seq.out) from observation data in NetCDF file\n",
    "- generating the template ```prior.nc``` file (or DART restart file) from the results of PFLOTRAN spin-up\n",
    "- generating the DART variable quantities files"
   ]
  },
  {
   "cell_type": "code",
   "execution_count": 4,
   "metadata": {},
   "outputs": [],
   "source": [
    "import numpy as np"
   ]
  },
  {
   "cell_type": "markdown",
   "metadata": {},
   "source": [
    "# Parameter settings"
   ]
  },
  {
   "cell_type": "code",
   "execution_count": 5,
   "metadata": {},
   "outputs": [],
   "source": [
    "# Directories\n",
    "obs_kind_dir    = '../obs_kind/'\n",
    "obs_type_dir    = '../obs_type/'\n",
    "obs_convert_dir = '../obs_converter/'\n",
    "utils_dir       = '../utils/'\n",
    "data_dir        = '../data_files/'\n",
    "\n",
    "# DART file names\n",
    "def_obs_kind = obs_kind_dir+'DEFAULT_obs_kind_mod.f90'\n",
    "obs_type     = obs_type_dir+'obs_def_pflotran_mod.f90'\n",
    "\n",
    "# Utility file names\n",
    "csv_to_nc        = utils_dir+'csv2nc.py'\n",
    "prep_convert_nc  = utils_dir+'prepare_convert_nc.py'\n",
    "compile_convert_nc = obs_convert_dir+'dart_seq_convert.csh'\n",
    "convert_nc       = obs_convert_dir+'convert_nc'\n",
    "to_dartqty       = utils_dir+'list2dartqty.py'\n",
    "obs_type_qty_ind = utils_dir+'obs_type_qty_ind.txt'\n",
    "\n",
    "# Data file names\n",
    "obs_original = data_dir+'temperature.csv'\n",
    "obs_nc       = data_dir+'obs_pflotran.nc'\n",
    "obs_dart     = data_dir+'obs_seq_pflotran.out'\n",
    "prior_nc     = data_dir+'prior_template_pflotran.nc'\n",
    "\n",
    "# Specify PFLOTRAN variables used as observation and state vector/parameters in DART\n",
    "obs_var_set  = ['TEMPERATURE']\n",
    "para_set     = ['PERMEABILITY','POROSITY','THERMALCONDUCTIVITY']\n",
    "state_set    = ['LIQUID_SATURATION','LIQUID_PRESSURE', 'TEST_VARIABLE', 'TEST_VARIABLEAAA']\n",
    "pflotran_set = obs_var_set + para_set + state_set"
   ]
  },
  {
   "cell_type": "markdown",
   "metadata": {},
   "source": [
    "# Convert the temperature .csv file to NetCDF file\n",
    "Note that \n",
    "- in reality the original observation file format varies. Therefore, users are required to prepare their own .nc file;\n",
    "- in your converted .nc file, it needs to contain temporal and spatial information, which are required by DART."
   ]
  },
  {
   "cell_type": "code",
   "execution_count": 6,
   "metadata": {},
   "outputs": [
    {
     "name": "stdout",
     "output_type": "stream",
     "text": [
      "(8641, 5)\n"
     ]
    }
   ],
   "source": [
    "%%script bash -s \"$csv_to_nc\" \"$obs_original\" \"$obs_nc\"\n",
    "python $1 $2 $3"
   ]
  },
  {
   "cell_type": "markdown",
   "metadata": {},
   "source": [
    "# Generate the template prior.nc file\n",
    "\n",
    "The template prior.nc file should include:\n",
    "- the parameter (from ```parameter.h5``` -- input) or the state vector (from PFLOTRAN spin-up output)\n",
    "- the predicted observations (from PFLOTRAN spin-up output)\n",
    "- the time information (from PFLOTRAN spin-up output)\n",
    "- the spatial inforamtion (from PFLOTRAN spin-up output)"
   ]
  },
  {
   "cell_type": "code",
   "execution_count": null,
   "metadata": {},
   "outputs": [],
   "source": [
    "%%script bash\n",
    "pflotran"
   ]
  },
  {
   "cell_type": "markdown",
   "metadata": {},
   "source": [
    "# Generate the DART variable quantity files\n",
    "It includes [DEFAULT_obs_kind_mod.f90](https://www.image.ucar.edu/DAReS/DART/Manhattan/assimilation_code/modules/observations/DEFAULT_obs_kind_mod.html) and [obs_def_mod.f90](https://www.image.ucar.edu/DAReS/DART/Manhattan/observations/forward_operators/obs_def_mod.html) (file names can be changed). The paths of the two files are specified in [&preprocess_nml](https://www.image.ucar.edu/DAReS/DART/Manhattan/assimilation_code/programs/preprocess/preprocess.html) in ```input.nml``` file. "
   ]
  },
  {
   "cell_type": "code",
   "execution_count": 4,
   "metadata": {},
   "outputs": [
    {
     "name": "stdout",
     "output_type": "stream",
     "text": [
      "The added DART variable quantities names and indices are ...\n",
      "['QTY_PFLOTRAN_TEST_VARIABLEAAA', 'QTY_PFLOTRAN_TEST_VARIABLE']\n",
      "[373, 374]\n"
     ]
    }
   ],
   "source": [
    "%%script bash -s \"$to_dartqty\" \"$obs_type\" \"$def_obs_kind\" \"$pflotran_set\"\n",
    "python $1 $2 $3 $4"
   ]
  },
  {
   "cell_type": "markdown",
   "metadata": {},
   "source": [
    "# Generate the DART observation file from NetCDF observation file\n",
    "Generate DART observation file requires the preparations of both .nc observation file and DART variable quantity files. An overview of DART observation file can be found at [link](https://www.image.ucar.edu/DAReS/DART/DART2_Observations.html#obs_seq_overview). Basically, we first creat the fortran code ```convert_nc.f90``` for generating the DART observation, and compile the fortran. Then, run the executable ```conver_nc``` to generate DART observation file ```obs_dart```"
   ]
  },
  {
   "cell_type": "markdown",
   "metadata": {},
   "source": [
    "## Prepare the convert_nc.f90 file"
   ]
  },
  {
   "cell_type": "code",
   "execution_count": 16,
   "metadata": {},
   "outputs": [],
   "source": [
    "%%script bash -s \"$prep_convert_nc\" \"$obs_nc\"\n",
    "python $1 $2"
   ]
  },
  {
   "cell_type": "markdown",
   "metadata": {},
   "source": [
    "## Compile convert_nc.f90 file"
   ]
  },
  {
   "cell_type": "code",
   "execution_count": 17,
   "metadata": {
    "scrolled": true
   },
   "outputs": [
    {
     "name": "stdout",
     "output_type": "stream",
     "text": [
      "---------------------------------------------------------------\n",
      "Removing *.o *.mod files\n",
      "\n",
      "\n",
      "---------------------------------------------------------------\n",
      "NetCDF converters build number 1 is preprocess\n",
      " Makefile is ready.\n",
      "gfortran -O2 -ffree-line-length-none -I/usr/local/Cellar/netcdf/4.6.3_1/include  -c\t../../../assimilation_code/modules/utilities/types_mod.f90\n",
      "gfortran -O2 -ffree-line-length-none -I/usr/local/Cellar/netcdf/4.6.3_1/include  -c\t../../../assimilation_code/modules/utilities/utilities_mod.f90\n",
      "gfortran -O2 -ffree-line-length-none -I/usr/local/Cellar/netcdf/4.6.3_1/include  -c\t../../../assimilation_code/programs/preprocess/preprocess.f90\n",
      "gfortran -O2 -ffree-line-length-none -I/usr/local/Cellar/netcdf/4.6.3_1/include  -c\t../../../assimilation_code/modules/utilities/time_manager_mod.f90\n",
      "gfortran -O2 -ffree-line-length-none -I/usr/local/Cellar/netcdf/4.6.3_1/include  -c\t../../../assimilation_code/modules/utilities/null_mpi_utilities_mod.f90\n",
      "gfortran preprocess.o utilities_mod.o types_mod.o null_mpi_utilities_mod.o time_manager_mod.o -o preprocess  -O2 -ffree-line-length-none -I/usr/local/Cellar/netcdf/4.6.3_1/include -L/usr/local/Cellar/netcdf/4.6.3_1/lib -lnetcdff -lnetcdf\n",
      "\n",
      " --------------------------------------\n",
      " Starting ... at YYYY MM DD HH MM SS = \n",
      "                 2019  9 12 17 36 30\n",
      " Program preprocess\n",
      " --------------------------------------\n",
      "\n",
      "  set_nml_output Echo NML values to log file only\n",
      " Path names of default obs_def and obs_kind modules\n",
      " ../../../observations/forward_operators/DEFAULT_obs_def_mod.F90\n",
      " ../obs_kind/DEFAULT_obs_kind_mod.F90\n",
      " Path names of output obs_def and obs_kind modules\n",
      " ../../../observations/forward_operators/obs_def_mod.f90\n",
      " ../../../assimilation_code/modules/observations/obs_kind_mod.f90\n",
      " INPUT obs_def files follow:\n",
      " ../obs_type/obs_def_pflotran_mod.f90\n",
      " INPUT model files follow:\n",
      "  preprocess Finished successfully.\n",
      "\n",
      " --------------------------------------\n",
      " Finished ... at YYYY MM DD HH MM SS = \n",
      "                 2019  9 12 17 36 30\n",
      " Program preprocess\n",
      " --------------------------------------\n",
      "\n",
      "---------------------------------------------------------------\n",
      "Generating the DART observation file converter\n",
      " Makefile is ready.\n",
      "gfortran -O2 -ffree-line-length-none -I/usr/local/Cellar/netcdf/4.6.3_1/include  -c\t../../../assimilation_code/modules/utilities/sort_mod.f90\n",
      "gfortran -O2 -ffree-line-length-none -I/usr/local/Cellar/netcdf/4.6.3_1/include  -c\t../../../assimilation_code/modules/utilities/ensemble_manager_mod.f90\n",
      "gfortran -O2 -ffree-line-length-none -I/usr/local/Cellar/netcdf/4.6.3_1/include  -c\t../../../assimilation_code/modules/utilities/null_win_mod.f90\n",
      "gfortran -O2 -ffree-line-length-none -I/usr/local/Cellar/netcdf/4.6.3_1/include  -c\t../../../assimilation_code/modules/utilities/random_seq_mod.f90\n",
      "gfortran -O2 -ffree-line-length-none -I/usr/local/Cellar/netcdf/4.6.3_1/include  -c\t../../../assimilation_code/modules/observations/obs_kind_mod.f90\n",
      "gfortran -O2 -ffree-line-length-none -I/usr/local/Cellar/netcdf/4.6.3_1/include  -c\t../../../assimilation_code/location/utilities/default_location_mod.f90\n",
      "gfortran -O2 -ffree-line-length-none -I/usr/local/Cellar/netcdf/4.6.3_1/include  -c\t../../../assimilation_code/location/threed_cartesian/location_mod.f90\n",
      "gfortran -O2 -ffree-line-length-none -I/usr/local/Cellar/netcdf/4.6.3_1/include  -c\t../../../assimilation_code/modules/utilities/netcdf_utilities_mod.f90\n",
      "gfortran -O2 -ffree-line-length-none -I/usr/local/Cellar/netcdf/4.6.3_1/include  -c\t../../../assimilation_code/modules/io/dart_time_io_mod.f90\n",
      "gfortran -O2 -ffree-line-length-none -I/usr/local/Cellar/netcdf/4.6.3_1/include  -c\t../../../models/utilities/default_model_mod.f90\n",
      "gfortran -O2 -ffree-line-length-none -I/usr/local/Cellar/netcdf/4.6.3_1/include  -c\t../../../assimilation_code/modules/utilities/distributed_state_mod.f90\n",
      "gfortran -O2 -ffree-line-length-none -I/usr/local/Cellar/netcdf/4.6.3_1/include  -c\t../../../assimilation_code/modules/io/state_structure_mod.f90\n",
      "gfortran -O2 -ffree-line-length-none -I/usr/local/Cellar/netcdf/4.6.3_1/include  -c\t../../../models/pflotran/model_mod.f90\n",
      "gfortran -O2 -ffree-line-length-none -I/usr/local/Cellar/netcdf/4.6.3_1/include  -c\t../../../assimilation_code/modules/assimilation/assim_model_mod.f90\n",
      "gfortran -O2 -ffree-line-length-none -I/usr/local/Cellar/netcdf/4.6.3_1/include  -c\t../../../observations/forward_operators/obs_def_utilities_mod.f90\n",
      "gfortran -O2 -ffree-line-length-none -I/usr/local/Cellar/netcdf/4.6.3_1/include  -c\t../../../observations/forward_operators/obs_def_mod.f90\n",
      "gfortran -O2 -ffree-line-length-none -I/usr/local/Cellar/netcdf/4.6.3_1/include  -c\t../../../assimilation_code/modules/observations/obs_sequence_mod.f90\n",
      "gfortran -O2 -ffree-line-length-none -I/usr/local/Cellar/netcdf/4.6.3_1/include  -c\t../../../observations/obs_converters/utilities/obs_utilities_mod.f90\n",
      "gfortran -O2 -ffree-line-length-none -I/usr/local/Cellar/netcdf/4.6.3_1/include  -c\t../../../models/pflotran/utils/convert_nc.f90\n",
      "gfortran -O2 -ffree-line-length-none -I/usr/local/Cellar/netcdf/4.6.3_1/include  -c\t../../../assimilation_code/location/utilities/location_io_mod.f90\n",
      "gfortran -O2 -ffree-line-length-none -I/usr/local/Cellar/netcdf/4.6.3_1/include  -c\t../../../assimilation_code/modules/assimilation/adaptive_inflate_mod.f90\n",
      "gfortran -O2 -ffree-line-length-none -I/usr/local/Cellar/netcdf/4.6.3_1/include  -c\t../../../assimilation_code/modules/utilities/options_mod.f90\n",
      "gfortran -O2 -ffree-line-length-none -I/usr/local/Cellar/netcdf/4.6.3_1/include  -c\t../../../assimilation_code/modules/io/io_filenames_mod.f90\n",
      "gfortran -O2 -ffree-line-length-none -I/usr/local/Cellar/netcdf/4.6.3_1/include  -c\t../../../assimilation_code/modules/io/direct_netcdf_mod.f90\n",
      "gfortran -O2 -ffree-line-length-none -I/usr/local/Cellar/netcdf/4.6.3_1/include  -c\t../../../assimilation_code/modules/io/state_vector_io_mod.f90\n",
      "gfortran -O2 -ffree-line-length-none -I/usr/local/Cellar/netcdf/4.6.3_1/include  -c\t../../../assimilation_code/modules/assimilation/quality_control_mod.f90\n",
      "gfortran -O2 -ffree-line-length-none -I/usr/local/Cellar/netcdf/4.6.3_1/include  -c\t../../../assimilation_code/modules/observations/forward_operator_mod.f90\n",
      "gfortran -O2 -ffree-line-length-none -I/usr/local/Cellar/netcdf/4.6.3_1/include  -c\t../../../assimilation_code/modules/assimilation/obs_model_mod.f90\n",
      "gfortran ensemble_manager_mod.o null_win_mod.o default_model_mod.o convert_nc.o distributed_state_mod.o default_location_mod.o location_io_mod.o model_mod.o adaptive_inflate_mod.o state_vector_io_mod.o direct_netcdf_mod.o forward_operator_mod.o types_mod.o obs_def_mod.o obs_def_utilities_mod.o random_seq_mod.o options_mod.o dart_time_io_mod.o obs_utilities_mod.o utilities_mod.o obs_kind_mod.o quality_control_mod.o location_mod.o assim_model_mod.o time_manager_mod.o obs_model_mod.o netcdf_utilities_mod.o io_filenames_mod.o obs_sequence_mod.o null_mpi_utilities_mod.o sort_mod.o state_structure_mod.o -o convert_nc  -O2 -ffree-line-length-none -I/usr/local/Cellar/netcdf/4.6.3_1/include -L/usr/local/Cellar/netcdf/4.6.3_1/lib -lnetcdff -lnetcdf\n",
      "Success: All NetCDF converters programs compiled.\n"
     ]
    },
    {
     "name": "stderr",
     "output_type": "stream",
     "text": [
      "........................................."
     ]
    }
   ],
   "source": [
    "%%script bash -s \"$obs_convert_dir\" \"$compile_convert_nc\"\n",
    "cd $1\n",
    "csh $2"
   ]
  },
  {
   "cell_type": "markdown",
   "metadata": {},
   "source": [
    "## Generate the DART observation file by using the convert_nc.f90"
   ]
  },
  {
   "cell_type": "code",
   "execution_count": 19,
   "metadata": {},
   "outputs": [
    {
     "name": "stdout",
     "output_type": "stream",
     "text": [
      "\n",
      " --------------------------------------\n",
      " Starting ... at YYYY MM DD HH MM SS = \n",
      "                 2019  9 12 17 37 16\n",
      " Program convert_nc\n",
      " --------------------------------------\n",
      "\n",
      "  set_nml_output Echo NML values to log file only\n",
      "  write_obs_seq  opening formatted observation sequence file \"../data_files/obs_seq.pflotran\"\n",
      "  write_obs_seq  closed observation sequence file \"../data_files/obs_seq.pflotran\"\n",
      "\n",
      " --------------------------------------\n",
      " Finished ... at YYYY MM DD HH MM SS = \n",
      "                 2019  9 12 17 37 18\n",
      " --------------------------------------\n",
      "\n"
     ]
    }
   ],
   "source": [
    "%%script bash -s \"$obs_convert_dir\" \"$convert_nc\"\n",
    "cd $1\n",
    "$2"
   ]
  },
  {
   "cell_type": "code",
   "execution_count": null,
   "metadata": {},
   "outputs": [],
   "source": []
  }
 ],
 "metadata": {
  "kernelspec": {
   "display_name": "Python 3",
   "language": "python",
   "name": "python3"
  },
  "language_info": {
   "codemirror_mode": {
    "name": "ipython",
    "version": 3
   },
   "file_extension": ".py",
   "mimetype": "text/x-python",
   "name": "python",
   "nbconvert_exporter": "python",
   "pygments_lexer": "ipython3",
   "version": "3.7.3"
  },
  "toc": {
   "base_numbering": 1,
   "nav_menu": {},
   "number_sections": false,
   "sideBar": true,
   "skip_h1_title": false,
   "title_cell": "Table of Contents",
   "title_sidebar": "Contents",
   "toc_cell": true,
   "toc_position": {
    "height": "calc(100% - 180px)",
    "left": "10px",
    "top": "150px",
    "width": "194.616px"
   },
   "toc_section_display": false,
   "toc_window_display": true
  },
  "varInspector": {
   "cols": {
    "lenName": 16,
    "lenType": 16,
    "lenVar": 40
   },
   "kernels_config": {
    "python": {
     "delete_cmd_postfix": "",
     "delete_cmd_prefix": "del ",
     "library": "var_list.py",
     "varRefreshCmd": "print(var_dic_list())"
    },
    "r": {
     "delete_cmd_postfix": ") ",
     "delete_cmd_prefix": "rm(",
     "library": "var_list.r",
     "varRefreshCmd": "cat(var_dic_list()) "
    }
   },
   "types_to_exclude": [
    "module",
    "function",
    "builtin_function_or_method",
    "instance",
    "_Feature"
   ],
   "window_display": false
  }
 },
 "nbformat": 4,
 "nbformat_minor": 2
}
